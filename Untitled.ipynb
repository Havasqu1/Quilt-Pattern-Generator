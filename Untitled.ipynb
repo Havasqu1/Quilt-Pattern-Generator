{
 "cells": [
  {
   "cell_type": "code",
   "execution_count": 1,
   "metadata": {},
   "outputs": [],
   "source": [
    "import numpy as np\n",
    "import random"
   ]
  },
  {
   "cell_type": "code",
   "execution_count": 2,
   "metadata": {},
   "outputs": [
    {
     "name": "stdout",
     "output_type": "stream",
     "text": [
      "Enter the width for your quilt\n"
     ]
    }
   ],
   "source": [
    "print(\"Enter the width for your quilt\")"
   ]
  },
  {
   "cell_type": "code",
   "execution_count": 8,
   "metadata": {},
   "outputs": [
    {
     "name": "stdout",
     "output_type": "stream",
     "text": [
      "Enter the height for your quilt\n"
     ]
    }
   ],
   "source": [
    "print(\"Enter the height for your quilt\")"
   ]
  },
  {
   "cell_type": "code",
   "execution_count": 7,
   "metadata": {},
   "outputs": [
    {
     "name": "stdout",
     "output_type": "stream",
     "text": [
      "Enter the number of colors in your quilt\n"
     ]
    }
   ],
   "source": [
    "print(\"Enter the number of colors in your quilt\")"
   ]
  },
  {
   "cell_type": "code",
   "execution_count": 160,
   "metadata": {},
   "outputs": [],
   "source": [
    "height = 5\n",
    "width = 5\n",
    "colors = 10"
   ]
  },
  {
   "cell_type": "code",
   "execution_count": 161,
   "metadata": {},
   "outputs": [],
   "source": [
    "quilt = np.random.randint(1, colors, size=(height,width))"
   ]
  },
  {
   "cell_type": "code",
   "execution_count": 135,
   "metadata": {},
   "outputs": [
    {
     "name": "stdout",
     "output_type": "stream",
     "text": [
      "[[7 6 2 4 5]\n",
      " [2 4 9 6 2]\n",
      " [8 4 5 2 4]\n",
      " [3 3 5 2 2]\n",
      " [5 8 2 1 9]]\n"
     ]
    }
   ],
   "source": [
    "print(quilt)"
   ]
  },
  {
   "cell_type": "code",
   "execution_count": 121,
   "metadata": {},
   "outputs": [
    {
     "ename": "SyntaxError",
     "evalue": "invalid syntax (<ipython-input-121-d7d62bd266e7>, line 30)",
     "output_type": "error",
     "traceback": [
      "\u001b[0;36m  File \u001b[0;32m\"<ipython-input-121-d7d62bd266e7>\"\u001b[0;36m, line \u001b[0;32m30\u001b[0m\n\u001b[0;31m    else j == quilt.shape[1]-1:\u001b[0m\n\u001b[0m         ^\u001b[0m\n\u001b[0;31mSyntaxError\u001b[0m\u001b[0;31m:\u001b[0m invalid syntax\n"
     ]
    }
   ],
   "source": [
    "def create_quilt():\n",
    "    \n",
    "    #iterate through each row\n",
    "    for i in range(0, quilt.shape[0]):\n",
    "        \n",
    "        #iterate through each col\n",
    "        for j in range(0, quilt.shape[1]):\n",
    "            \n",
    "            #start with all colors\n",
    "            useable_colors = [color for color in range(1, colors+1)]\n",
    "            \n",
    "            #for first row and not first column\n",
    "            if i == 0:\n",
    "                if j > 0:\n",
    "                    useable_colors = useable_colors.remove(quilt[i, j-1])\n",
    "                    quilt[i, j] = random.sample(useable_colors, 1)[0]\n",
    "            \n",
    "            #for the last row\n",
    "            elif i == quilt.shape[0]-1:\n",
    "            \n",
    "                if j == 0:\n",
    "                    \n",
    "                    #remove color directly above\n",
    "                    useable_colors = useable_colors.remove(quilt[i-1, j])\n",
    "                    #remove color diagonal right\n",
    "                    useable_colors = useable_colors.remove(quilt[i-1, j+1])\n",
    "                    \n",
    "                    quilt[i, j] = random.sample(useable_colors, 1)[0]\n",
    "                \n",
    "                else j == quilt.shape[1]-1:\n",
    "                \n",
    "                    #remove color directly above\n",
    "                    useable_colors = useable_colors.remove(quilt[i-1, j])\n",
    "                    #remove color diagonal left\n",
    "                    useable_colors = useable_colors.remove(quilt[i-1, j-1])\n",
    "                    #remove previous color\n",
    "                    useable_colors = useable_colors.remove(quilt[i, j-1])\n",
    "                    \n",
    "                    quilt[i, j] = random.sample(useable_colors, 1)[0]\n",
    "                \n",
    "            #last column\n",
    "            elif j == quilt.shape[1]-1:\n",
    "                \n",
    "                #remove color directly above\n",
    "                useable_colors = useable_colors.remove(quilt[i-1, j])\n",
    "                #remove color diagonal left\n",
    "                useable_colors = useable_colors.remove(quilt[i-1, j-1])\n",
    "                #remove previous color\n",
    "                useable_colors = useable_colors.remove(quilt[i, j-1])\n",
    "                \n",
    "                quilt[i, j] = random.sample(useable_colors, 1)[0]\n",
    "\n",
    "            #for all other rows\n",
    "            else:\n",
    "                \n",
    "                #remove color directly above\n",
    "                useable_colors = useable_colors.remove(quilt[i-1, j])\n",
    "                #remove color diagonal left\n",
    "                useable_colors = useable_colors.remove(quilt[i-1, j-1])\n",
    "                #remove color diagonal right\n",
    "                useable_colors = useable_colors.remove(quilt[i-1, j+1])\n",
    "                #remove previous color\n",
    "                useable_colors = useable_colors.remove(quilt[i, j-1])     \n",
    "                \n",
    "                quilt[i, j] = random.sample(useable_colors, 1)[0]\n",
    "            \n",
    "            \n",
    "            "
   ]
  },
  {
   "cell_type": "code",
   "execution_count": 205,
   "metadata": {},
   "outputs": [
    {
     "name": "stdout",
     "output_type": "stream",
     "text": [
      "Enter height for quilt:\n",
      "10\n",
      "Enter width for quilt:\n",
      "10\n",
      "Enter number of colors for quilt:\n",
      "11\n",
      "Here is your Quilt Pattern \n",
      "\n",
      "--------------------------------------------------------------------------------\n",
      "1\t4\t1\t6\t2\t9\t8\t6\t8\t6\n",
      "9\t6\t8\t4\t8\t1\t2\t5\t11\t4\n",
      "5\t7\t9\t10\t6\t4\t10\t1\t8\t2\n",
      "10\t6\t2\t7\t9\t2\t7\t9\t6\t7\n",
      "8\t11\t10\t1\t5\t3\t1\t10\t2\t1\n",
      "10\t6\t5\t8\t4\t8\t5\t9\t11\t4\n",
      "9\t4\t9\t7\t11\t7\t4\t2\t10\t6\n",
      "8\t6\t5\t1\t4\t6\t11\t8\t1\t2\n",
      "11\t2\t9\t7\t9\t5\t10\t9\t7\t10\n",
      "4\t8\t3\t5\t3\t1\t6\t1\t2\t3\n"
     ]
    }
   ],
   "source": [
    "def create_quilt():\n",
    "    \n",
    "    #create a randomized quilt\n",
    "    height = int(input(\"Enter height for quilt:\\n\"))\n",
    "    width = int(input(\"Enter width for quilt:\\n\"))\n",
    "    colors = int(input(\"Enter number of colors for quilt:\\n\"))\n",
    "    quilt = np.random.randint(1, colors, size=(height,width))\n",
    "\n",
    "    #iterate through each row\n",
    "    for i in range(0, quilt.shape[0]):\n",
    "        \n",
    "        #iterate through each col\n",
    "        for j in range(0, quilt.shape[1]):\n",
    "            current_block = quilt[i, j]\n",
    "            all_colors = [color for color in range(1, colors+1)]\n",
    "            neighboring_blocks = []\n",
    "            \n",
    "            #try pulling previous block\n",
    "            try:\n",
    "                neighboring_blocks.append(quilt[i, j-1])\n",
    "            except:\n",
    "                pass\n",
    "\n",
    "            #try pulling top left diagonal block\n",
    "            try:\n",
    "                neighboring_blocks.append(quilt[i-1, j-1])\n",
    "            except:\n",
    "                pass\n",
    "                \n",
    "            #try pulling block above\n",
    "            try:\n",
    "                neighboring_blocks.append(quilt[i-1, j])\n",
    "            except:\n",
    "                pass\n",
    "                \n",
    "            #try pulling top right diagonal block\n",
    "            try:\n",
    "                neighboring_blocks.append(quilt[i-1, j+1])\n",
    "            except:\n",
    "                pass\n",
    "            \n",
    "            #try pulling next block\n",
    "            try:\n",
    "                neighboring_blocks.append(quilt[i, j+1])\n",
    "            except:\n",
    "                pass\n",
    "            \n",
    "            #if current block is the same as neighboring blocks\n",
    "            if current_block in neighboring_blocks:\n",
    "                \n",
    "                #update possible colors list\n",
    "                useable_colors = [color for color in all_colors if color not in neighboring_blocks]\n",
    "                \n",
    "                #check to see if you have enough colors\n",
    "                if not useable_colors:\n",
    "                    print(\"You need to add more colors to your quilt\")\n",
    "                    break\n",
    "                \n",
    "                #if you have enough colors, update the current block\n",
    "                else:\n",
    "                    #update current block\n",
    "                    quilt[i, j] = random.choice(useable_colors)\n",
    "    \n",
    "    return quilt\n",
    "\n",
    "q = create_quilt()\n",
    "print(\"Here is your Quilt Pattern \\n\")\n",
    "print(\"--------\"*q.shape[1])\n",
    "print('\\n'.join(['\\t'.join([str(cell) for cell in row]) for row in q]))\n"
   ]
  },
  {
   "cell_type": "code",
   "execution_count": 203,
   "metadata": {},
   "outputs": [
    {
     "name": "stdout",
     "output_type": "stream",
     "text": [
      "Enter height for quilt:\n",
      "5\n",
      "Enter width for quilt:\n",
      "5\n",
      "Enter number of colors for quilt:\n",
      "6\n"
     ]
    }
   ],
   "source": [
    "q = create_quilt()"
   ]
  },
  {
   "cell_type": "code",
   "execution_count": 204,
   "metadata": {},
   "outputs": [
    {
     "name": "stdout",
     "output_type": "stream",
     "text": [
      "Here is your Quilt Pattern \n",
      "\n",
      "----------------------------------------\n",
      "6\t2\t6\t1\t4\n",
      "3\t1\t4\t5\t3\n",
      "6\t5\t3\t1\t2\n",
      "4\t1\t2\t4\t3\n",
      "2\t6\t3\t5\t6\n"
     ]
    }
   ],
   "source": [
    "print(\"Here is your Quilt Pattern \\n\")\n",
    "print(\"--------\"*q.shape[1])\n",
    "print('\\n'.join(['\\t'.join([str(cell) for cell in row]) for row in q]))\n"
   ]
  },
  {
   "cell_type": "code",
   "execution_count": 182,
   "metadata": {},
   "outputs": [
    {
     "data": {
      "text/plain": [
       "5"
      ]
     },
     "execution_count": 182,
     "metadata": {},
     "output_type": "execute_result"
    }
   ],
   "source": [
    "q.shape[1]"
   ]
  },
  {
   "cell_type": "code",
   "execution_count": 2,
   "metadata": {},
   "outputs": [
    {
     "data": {
      "text/plain": [
       "array([[0., 0., 0., 0.],\n",
       "       [0., 0., 0., 0.],\n",
       "       [0., 0., 0., 0.],\n",
       "       [0., 0., 0., 0.]])"
      ]
     },
     "execution_count": 2,
     "metadata": {},
     "output_type": "execute_result"
    }
   ],
   "source": [
    "np.zeros((4,4))"
   ]
  },
  {
   "cell_type": "code",
   "execution_count": null,
   "metadata": {},
   "outputs": [],
   "source": []
  }
 ],
 "metadata": {
  "kernelspec": {
   "display_name": "Python 3",
   "language": "python",
   "name": "python3"
  },
  "language_info": {
   "codemirror_mode": {
    "name": "ipython",
    "version": 3
   },
   "file_extension": ".py",
   "mimetype": "text/x-python",
   "name": "python",
   "nbconvert_exporter": "python",
   "pygments_lexer": "ipython3",
   "version": "3.8.5"
  }
 },
 "nbformat": 4,
 "nbformat_minor": 4
}
